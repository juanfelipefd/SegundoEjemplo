{
  "nbformat": 4,
  "nbformat_minor": 0,
  "metadata": {
    "colab": {
      "provenance": [],
      "authorship_tag": "ABX9TyPxIX9Y/zN+Nf0CfcfPaAoy",
      "include_colab_link": true
    },
    "kernelspec": {
      "name": "python3",
      "display_name": "Python 3"
    },
    "language_info": {
      "name": "python"
    }
  },
  "cells": [
    {
      "cell_type": "markdown",
      "metadata": {
        "id": "view-in-github",
        "colab_type": "text"
      },
      "source": [
        "<a href=\"https://colab.research.google.com/github/juanfelipefd/SegundoEjemplo/blob/main/FrancoJ_prueba2_IO.ipynb\" target=\"_parent\"><img src=\"https://colab.research.google.com/assets/colab-badge.svg\" alt=\"Open In Colab\"/></a>"
      ]
    },
    {
      "cell_type": "markdown",
      "source": [
        "#Primer ejecrcicio\n",
        "\n",
        "##Esto es un subtitulo\n",
        "\n",
        "Esto es texto normal"
      ],
      "metadata": {
        "id": "NsmVzF_73qi3"
      }
    },
    {
      "cell_type": "code",
      "execution_count": 1,
      "metadata": {
        "colab": {
          "base_uri": "https://localhost:8080/"
        },
        "id": "z6En-CxX2WpU",
        "outputId": "b0a6caf8-9a24-4424-b8b5-661e20baac27"
      },
      "outputs": [
        {
          "output_type": "stream",
          "name": "stdout",
          "text": [
            "Hola mundo\n"
          ]
        }
      ],
      "source": [
        "print(\"Buenos días, mundo\")"
      ]
    },
    {
      "cell_type": "markdown",
      "source": [
        "#Segundo ejercicio"
      ],
      "metadata": {
        "id": "EfO5cPoA4N9m"
      }
    },
    {
      "cell_type": "code",
      "source": [
        "print(\"Buenos días, Juan\")"
      ],
      "metadata": {
        "colab": {
          "base_uri": "https://localhost:8080/"
        },
        "id": "GU5FEq_A4Ruu",
        "outputId": "59da93c1-fe50-4560-b2f4-0787383a400f"
      },
      "execution_count": 2,
      "outputs": [
        {
          "output_type": "stream",
          "name": "stdout",
          "text": [
            "Hola, Juan\n"
          ]
        }
      ]
    }
  ]
}